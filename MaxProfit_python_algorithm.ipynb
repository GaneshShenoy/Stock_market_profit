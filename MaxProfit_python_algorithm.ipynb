{
 "cells": [
  {
   "cell_type": "code",
   "execution_count": 40,
   "metadata": {},
   "outputs": [],
   "source": [
    "import sys\n",
    "price_array = []\n",
    "day_data = []"
   ]
  },
  {
   "cell_type": "code",
   "execution_count": 41,
   "metadata": {},
   "outputs": [],
   "source": [
    "'''\n",
    "When the specfied low index and high index are crossing the mid range,\n",
    "find the profit on left of the mid value\n",
    "find the profit on right of the mid value and sum them up\n",
    "'''\n",
    "def find_maxof_cross_subarray (sub_array, low_index, mid_index, high_index):\n",
    "    left_sum = -sys.maxsize - 1\n",
    "    sum = 0\n",
    "    max_left = 0\n",
    "    for ctr in range(mid_index, low_index -1, -1) :\n",
    "        sum = sum + sub_array[ctr]\n",
    "        #print (\"sum {0}  and ctr {1}\".format(sum, ctr))\n",
    "        if sum > left_sum :\n",
    "            left_sum = sum\n",
    "            max_left = ctr\n",
    "            \n",
    "    right_sum = -sys.maxsize - 1\n",
    "    sum = 0\n",
    "    max_right = 0\n",
    "    for ctr in range (mid_index+1, high_index + 1):\n",
    "        sum = sum + sub_array[ctr]\n",
    "        #print (\"sum1 {0}  and ctr1 {1}\".format(sum, ctr))\n",
    "        if sum > right_sum:\n",
    "            right_sum = sum\n",
    "            max_right = ctr\n",
    "    \n",
    "    return max_left, max_right, left_sum + right_sum\n",
    "            "
   ]
  },
  {
   "cell_type": "code",
   "execution_count": 42,
   "metadata": {},
   "outputs": [],
   "source": [
    "'''\n",
    "Recursive Function to find the maximum of subarray\n",
    "Calculate the maximum profit if it lies on the left side of the mid index\n",
    "Calculate the maximum profit if it lies on the right side of the mid index\n",
    "Else if the range crossing the mid index call find_maxof_cross_subarray.\n",
    "'''\n",
    "def find_maxof_subarray(sub_array, low_index, high_index):\n",
    "    if low_index == high_index :\n",
    "        return low_index, high_index, sub_array[low_index]\n",
    "    else :\n",
    "        mid_index = int((low_index + high_index) / 2)\n",
    "        left_low, left_high, left_sum = find_maxof_subarray(sub_array, low_index, mid_index)\n",
    "        right_low, right_high, right_sum = find_maxof_subarray(sub_array, mid_index + 1, high_index)\n",
    "        cross_low, cross_high, cross_sum = find_maxof_cross_subarray ( sub_array, low_index, mid_index, high_index)\n",
    "    if (left_sum >= right_sum) and (left_sum >= cross_sum) :\n",
    "        return left_low, left_high, left_sum\n",
    "    elif (right_sum >= left_sum) and (right_sum >= cross_sum):\n",
    "        return right_low, right_high, right_sum\n",
    "    else :\n",
    "        return cross_low, cross_high, cross_sum"
   ]
  },
  {
   "cell_type": "code",
   "execution_count": 48,
   "metadata": {},
   "outputs": [],
   "source": [
    "def writeToFile(buy_day, sell_day, profit):\n",
    "    file_output = open(\"outputPS10.txt\", \"a+\") \n",
    "    file_output.write (\"\\nMaximum Profit(Divide & Conquer): {0}\".format(profit))\n",
    "    file_output.write (\"\\nDay to buy: {0}\".format(day_data[buy_day])) \n",
    "    file_output.write (\"\\nDay to sell: {0}\".format(day_data[sell_day])) \n",
    "    file_output.close()"
   ]
  },
  {
   "cell_type": "code",
   "execution_count": 49,
   "metadata": {},
   "outputs": [],
   "source": [
    "#price_varaiation_array = [[]]\n",
    "\n",
    "def readInputfile(inputfile = \"inputPS10.txt\"):  \n",
    "    day_data.clear()\n",
    "    price_array.clear()\n",
    "    with open(inputfile) as input_file_reader:\n",
    "        line = input_file_reader.readline()\n",
    "        while line != '':\n",
    "            day_price = [dayprice.strip() for dayprice in line.split('/')]\n",
    "            #price_varaiation_array.append(day_price)  \n",
    "            day_data.append(int(day_price[0]))\n",
    "            price_array.append(int(day_price[1]))\n",
    "            line = input_file_reader.readline()\n",
    "        input_file_reader.close()      "
   ]
  },
  {
   "cell_type": "code",
   "execution_count": 50,
   "metadata": {},
   "outputs": [],
   "source": [
    "# read the input file\n",
    "readInputfile()\n",
    "\n",
    "#find the price change (fill up in array)\n",
    "price_varaiation_array = [y-x for x, y in zip(price_array[:-1], price_array[1:])] \n",
    "\n",
    "# find the maximum array index where we get maximum profit\n",
    "buy_index, sell_index, profit = find_maxof_subarray(price_varaiation_array, 0, len(price_varaiation_array)-1)\n",
    "\n",
    "# write the calculated data into output file\n",
    "writeToFile(buy_index+1, sell_index+1, profit)"
   ]
  },
  {
   "cell_type": "code",
   "execution_count": 51,
   "metadata": {},
   "outputs": [],
   "source": [
    "'''\n",
    "Find the maximum sum of subarray in iterative mode.\n",
    "\n",
    "'''\n",
    "def find_maxof_subarray_iterative(numbers):    \n",
    "    max_profit = -sys.maxsize - 1  \n",
    "    start_index = end_index = 0\n",
    "    current_sum = 0\n",
    "    for current_end, x in enumerate(numbers):\n",
    "        if current_sum <= 0:\n",
    "            current_start = current_end\n",
    "            current_sum = x\n",
    "        else:\n",
    "            current_sum += x\n",
    "\n",
    "        if current_sum > max_profit:\n",
    "            max_profit = current_sum\n",
    "            start_index = current_start\n",
    "            end_index = current_end  \n",
    "\n",
    "    return start_index, end_index, max_profit"
   ]
  },
  {
   "cell_type": "code",
   "execution_count": 52,
   "metadata": {},
   "outputs": [],
   "source": [
    "find_maxof_subarray_iterative(price_varaiation_array)\n",
    "\n",
    "# write the calculated data into output file\n",
    "writeToFile(buy_index+1, sell_index+1, profit)"
   ]
  },
  {
   "cell_type": "code",
   "execution_count": null,
   "metadata": {},
   "outputs": [],
   "source": []
  }
 ],
 "metadata": {
  "kernelspec": {
   "display_name": "Python 3",
   "language": "python",
   "name": "python3"
  },
  "language_info": {
   "codemirror_mode": {
    "name": "ipython",
    "version": 3
   },
   "file_extension": ".py",
   "mimetype": "text/x-python",
   "name": "python",
   "nbconvert_exporter": "python",
   "pygments_lexer": "ipython3",
   "version": "3.7.6"
  }
 },
 "nbformat": 4,
 "nbformat_minor": 4
}
